{
 "cells": [
  {
   "cell_type": "markdown",
   "id": "67576143-91fc-4c29-a0b8-ce554d26bfbd",
   "metadata": {},
   "source": [
    "<h1>Palindrome"
   ]
  },
  {
   "cell_type": "code",
   "execution_count": 2,
   "id": "ec1c804e-27b8-442b-a817-92c8ce8b6889",
   "metadata": {},
   "outputs": [
    {
     "name": "stdin",
     "output_type": "stream",
     "text": [
      "enter a string racecar\n"
     ]
    },
    {
     "data": {
      "text/plain": [
       "'racecar'"
      ]
     },
     "execution_count": 2,
     "metadata": {},
     "output_type": "execute_result"
    }
   ],
   "source": [
    "u=input(\"enter a string\")\n",
    "u[::-1]\n"
   ]
  },
  {
   "cell_type": "code",
   "execution_count": 2,
   "id": "68227b6c-d09e-4886-ad57-abd8a9774db2",
   "metadata": {},
   "outputs": [
    {
     "name": "stdout",
     "output_type": "stream",
     "text": [
      "True\n",
      "False\n"
     ]
    }
   ],
   "source": [
    "def is_palindrome(word):\n",
    "    return word==word[::-1]\n",
    "print(is_palindrome(\"madam\"))\n",
    "print(is_palindrome(\"sir\"))"
   ]
  },
  {
   "cell_type": "code",
   "execution_count": null,
   "id": "09340a95-ac24-4bff-b12e-6a655f2b354b",
   "metadata": {},
   "outputs": [],
   "source": []
  },
  {
   "cell_type": "markdown",
   "id": "2aae62fc-b98c-4b8e-ad13-a85f3664c409",
   "metadata": {},
   "source": [
    "<h1>Ananomous function</h1>"
   ]
  },
  {
   "cell_type": "code",
   "execution_count": 7,
   "id": "adda92bc-0131-45a3-a118-588faea5d112",
   "metadata": {},
   "outputs": [
    {
     "data": {
      "text/plain": [
       "27"
      ]
     },
     "execution_count": 7,
     "metadata": {},
     "output_type": "execute_result"
    }
   ],
   "source": [
    "a = lambda x: x**x\n",
    "a(3)"
   ]
  },
  {
   "cell_type": "markdown",
   "id": "3949fdab-fb1a-432d-8291-464f784a41fd",
   "metadata": {},
   "source": [
    "<h1>Using palindrome </h1>"
   ]
  },
  {
   "cell_type": "code",
   "execution_count": 20,
   "id": "796401a3-fb90-4787-a357-0a3abde81a1c",
   "metadata": {},
   "outputs": [
    {
     "data": {
      "text/plain": [
       "'palindrome'"
      ]
     },
     "execution_count": 20,
     "metadata": {},
     "output_type": "execute_result"
    }
   ],
   "source": [
    "palindrome = lambda x: \"palindrome\" if x==x [::-1]else \"not a palindrome\"\n",
    "palindrome(\"madam\")"
   ]
  },
  {
   "cell_type": "code",
   "execution_count": 34,
   "id": "0c0b0e75-cf75-48b0-8060-ad6573b5e17b",
   "metadata": {},
   "outputs": [
    {
     "name": "stdout",
     "output_type": "stream",
     "text": [
      "divisible by 2\n"
     ]
    }
   ],
   "source": [
    "divisible_by_2 = lambda x: \"divisible by 2\" if x % 2 == 0 else \"not divisible by 2\"\n",
    "print(divisible_by_2(10))"
   ]
  },
  {
   "cell_type": "code",
   "execution_count": 35,
   "id": "3dece004-e05e-4c79-adcf-298619bbbcfe",
   "metadata": {},
   "outputs": [
    {
     "name": "stdout",
     "output_type": "stream",
     "text": [
      "not divisible by 2\n"
     ]
    }
   ],
   "source": [
    "divisible_by_2 = lambda x: \"divisible by 2\" if x % 2 == 0 else \"not divisible by 2\"\n",
    "print(divisible_by_2(11))"
   ]
  },
  {
   "cell_type": "code",
   "execution_count": null,
   "id": "a52cb14c-56a8-4130-a50b-dc70e5c8742e",
   "metadata": {},
   "outputs": [],
   "source": []
  }
 ],
 "metadata": {
  "kernelspec": {
   "display_name": "Python 3 (ipykernel)",
   "language": "python",
   "name": "python3"
  },
  "language_info": {
   "codemirror_mode": {
    "name": "ipython",
    "version": 3
   },
   "file_extension": ".py",
   "mimetype": "text/x-python",
   "name": "python",
   "nbconvert_exporter": "python",
   "pygments_lexer": "ipython3",
   "version": "3.12.7"
  }
 },
 "nbformat": 4,
 "nbformat_minor": 5
}
